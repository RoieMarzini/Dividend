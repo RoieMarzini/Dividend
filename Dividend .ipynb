{
 "cells": [
  {
   "cell_type": "code",
   "execution_count": 3,
   "metadata": {},
   "outputs": [],
   "source": [
    "#!/usr/bin/env python\n",
    "# coding: utf-8\n",
    "\n",
    "# In[6]:\n",
    "\n",
    "\n",
    "import selenium as selenium\n",
    "from selenium import webdriver\n",
    "import pandas as pd\n",
    "from csv import writer\n",
    "from selenium.webdriver.common.by import By\n",
    "import seaborn as sbs \n",
    "import seaborn as sns\n",
    "import matplotlib.pyplot as plt\n",
    "import datetime as dt\n",
    "\n",
    "\n"
   ]
  },
  {
   "cell_type": "code",
   "execution_count": 2,
   "metadata": {},
   "outputs": [],
   "source": [
    "\n",
    "url_link={\n",
    "'PHILIPM':'https://www.investing.com/equities/philip-morris-intl-dividends',\n",
    "'BUZZI':'https://www.investing.com/equities/buzzi-unicem-dividends',\n",
    "'ENI':'https://www.investing.com/equities/eni-dividends',\n",
    "'GeneraliAss':'https://www.investing.com/equities/generali-ass-dividends',\n",
    "'INTESA':'https://www.investing.com/equities/intesa-sanpaolo-dividends',\n",
    "'UNISPA':'https://www.investing.com/equities/unicredito-dividends',\n",
    "'STLA':'https://www.investing.com/equities/fiat-dividends',\n",
    "'Telecom_IT':'https://www.investing.com/equities/telecom-italia-dividends',\n",
    "'AENA':'https://www.investing.com/equities/aena-aeropuertos-sa-dividends',\n",
    "'TELEFONICA':'https://www.investing.com/equities/telefonica-dividends',\n",
    "'NINTENDO':'https://www.investing.com/equities/nintendo-ltd-dividends',\n",
    "'AIRBUS-XET':'https://www.investing.com/equities/eads-dividends?cid=1073857',\n",
    "'RATIONAL':'https://www.investing.com/equities/rational-ag-dividends?cid=23066',\n",
    "'RTL':'https://www.investing.com/equities/rtl-group-lu-dividends?cid=41032',\n",
    "'LAFARGE':'https://www.investing.com/equities/holcim-dividends?cid=955878',\n",
    "'Vivendi_IT':'https://www.investing.com/equities/vivendi-dividends?cid=29465',\n",
    "'AAREAL':'https://www.investing.com/equities/aareal-bank-dividends',\n",
    "'ADIDAS':'https://www.investing.com/equities/adidas-salomon-dividends',\n",
    "'AIXTRON':'https://www.investing.com/equities/aixtron-dividends',\n",
    "'ALLIANZ':'https://www.investing.com/equities/allianz-ag-dividends',\n",
    "'SAMSUNG_LON':'https://www.investing.com/equities/samsung-electronics-co-ltd-gdr-dividends',\n",
    "'AURUBIS':'https://www.investing.com/equities/aurubis-ag-dividends',\n",
    "'BASF':'https://www.investing.com/equities/basf-ag-dividends',\n",
    "'BAUER':'https://www.investing.com/equities/bauer-ag-dividends',\n",
    "'BAYER':'https://www.investing.com/equities/bayer-ag-dividends',\n",
    "'BEIERSDORF':'https://www.investing.com/equities/beiersdorf-dividends',\n",
    "'BERTRANDT':'https://www.investing.com/equities/bertrandt-dividends',\n",
    "'BILFINGER':'https://www.investing.com/equities/bilfinger---berg-dividends',\n",
    "'BMW':'https://www.investing.com/equities/bay-mot-werke-dividends',\n",
    "'SAP':'https://www.investing.com/equities/sap-ag-dividends',\n",
    "'BRENNTAG':'https://www.investing.com/equities/brenntag-ag-dividends',\n",
    "'COMMERZBANK':'https://www.investing.com/equities/commerzbank-ag-dividends',\n",
    "'CONTINENTAL':'https://www.investing.com/equities/continental-ag-dividends',\n",
    "'DAIMLER':'https://www.investing.com/equities/daimler-dividends',\n",
    "'DEUTZ':'https://www.investing.com/equities/deutz-dividends',\n",
    "'DMG':'https://www.investing.com/equities/gildemeister-dividends',\n",
    "'Dt._Boerse':'https://www.investing.com/equities/dt-boerse-dividends',\n",
    "'Dt._Bank':'https://www.investing.com/equities/deutsche-bank-dividends',\n",
    "'Dt._POST':'https://www.investing.com/equities/deutsche-post-dividends',\n",
    "'Dt._Telekom':'https://www.investing.com/equities/dt-telekom-dividends',\n",
    "'Dt._Wohnen':'https://www.investing.com/equities/deutsche-wohnen-ag-exch-dividends',\n",
    "'DUERR':'https://www.investing.com/equities/duerr-dividends',\n",
    "'ELRINGKLING':'https://investing.com/equities/elringklinger-dividends',\n",
    "'E.ON':'https://www.investing.com/equities/e.on-dividends',\n",
    "'EUROSHOP':'https://www.investing.com/equities/dt-euroshop-exch-dividends',\n",
    "'EVENTIM':'https://www.investing.com/equities/cts-eventim-ag-dividends',\n",
    "'EVONIK':'https://www.investing.com/equities/evonik-industries-ag-dividends',\n",
    "'FIELMANN':'https://www.investing.com/equities/fielmann-ag-exch-dividends',\n",
    "'FRAPORT':'https://www.investing.com/equities/fraport-dividends',\n",
    "'FREENET':'https://www.investing.com/equities/freenet-dividends',\n",
    "'FRESEN':'https://www.investing.com/equities/fresenius-medi-dividends',\n",
    "'FRESENIUS':'https://www.investing.com/equities/fresenius-ag-dividends',\n",
    "'FUCHS':'https://www.investing.com/equities/fuchs-petrolub-ag-dividends',\n",
    "'GEA':'https://www.investing.com/equities/gea-group-dividends',\n",
    "'GRAMMER':'https://www.investing.com/equities/grammer-dividends',\n",
    "'HANNOVER':'https://www.investing.com/equities/hannover-rueck-dividends',\n",
    "'HEI_CEMENT':'https://www.investing.com/equities/heidelbergcement-ag-exch-dividends',\n",
    "'HENKEL':'https://www.investing.com/equities/henkel-hgaa-vz-dividends',\n",
    "'HOCHTIEF':'https://www.investing.com/equities/hochtief-dividends',\n",
    "'LVMH':'https://www.investing.com/equities/l.v.m.h.-dividends',\n",
    "'JUNGHEINR.':'https://www.investing.com/equities/jungheinrich-ag-dividends',\n",
    "'Hugo_Boss':'https://www.investing.com/equities/hugo-boss-dividends',\n",
    "'K+S':'https://www.investing.com/equities/k-s-ag-dividends',\n",
    "'KION':'https://www.investing.com/equities/kion-group-ag-dividends',\n",
    "'KRONES':'https://www.investing.com/equities/krones-dividends',\n",
    "'KUKA':'https://www.investing.com/equities/kuka-dividends',\n",
    "'LANXESS':'https://www.investing.com/equities/lanxess-dividends',\n",
    "'LEG':'https://www.investing.com/equities/leg-immobilien-ag-dividends',\n",
    "'KLOECKNER':'https://www.investing.com/equities/kloeckner-dividends',\n",
    "'LEONI':'https://www.investing.com/equities/leoni-ag-dividends',\n",
    "'LPKF':'https://www.investing.com/equities/lpkf-laser---electronics-ag-dividends',\n",
    "'LUFTHANSA':'https://www.investing.com/equities/dt-lufthansa-dividends',\n",
    "'MAN':'https://www.investing.com/equities/man-ag-dividends',\n",
    "'MERCK':'https://www.investing.com/equities/merck-kgaa-dividends',\n",
    "'METRO':'https://www.investing.com/equities/metro-ag-vz-dividends',\n",
    "'MTU':'https://www.investing.com/equities/mtu-aero-eng-dividends',\n",
    "'Munik-Re':'https://www.investing.com/equities/muench.-rueck-dividends',\n",
    "'NORMA':'https://www.investing.com/equities/norma-group-ag-dividends',\n",
    "'OSRAM':'https://www.investing.com/equities/osram-licht-dividends',\n",
    "'PFEIFFER':'https://www.investing.com/equities/pfeiffer-vacuum-dividends',\n",
    "'PROSIEBENSA':'https://www.investing.com/equities/pro-sieben-dividends',\n",
    "'PUMA':'https://www.investing.com/equities/puma-se-cfd-dividends',\n",
    "'RHEINMETALL':'https://www.investing.com/equities/rheinmetall-dividends',\n",
    "'RHOEN':'https://www.investing.com/equities/rhoen-klinikum-dividends',\n",
    "'RWE':'https://www.investing.com/equities/rwe-st-a-dividends',\n",
    "'SALZGITTER':'https://www.investing.com/equities/salzgitter-dividends',\n",
    "'EA':'https://www.investing.com/equities/electronic-arts-inc-dividends',\n",
    "'SIXT':'https://www.investing.com/equities/sixt-ag-dividends',\n",
    "'SMA_SOLAR':'https://www.investing.com/equities/sma-solar-technology-ag-exch-dividends',\n",
    "'SUEDZUCKER':'https://www.investing.com/equities/suedzucker-dividends',\n",
    "'SYMRISE':'https://www.investing.com/equities/symrise-ag-dividends',\n",
    "'TAG_IMMO.':'https://www.investing.com/equities/tag-immobilien-ag-dividends',\n",
    "'TALANX':'https://www.investing.com/equities/talanx-dividends',\n",
    "'THYSSENKRUP':'https://www.investing.com/equities/thyssen-krupp-dividends',\n",
    "'TUI':'https://www.investing.com/equities/tui-n-dividends',\n",
    "'VOLKSWAGEN3':'https://www.investing.com/equities/volkswagen-vz-dividends',\n",
    "'VOSSLOH':'https://www.investing.com/equities/vossloh-dividends',\n",
    "'WACKER':'https://www.investing.com/equities/wacker-chemie-dividends',\n",
    "'WIRECARD':'https://www.investing.com/equities/wire-card-dividends',\n",
    "'ACCOR':'https://www.investing.com/equities/accor-dividends',\n",
    "'AGRIC':'https://www.investing.com/equities/credit-agricole-dividends',\n",
    "'AIR':'https://www.investing.com/equities/air-liquide-dividends',\n",
    "'AIRBUS':'https://www.investing.com/equities/eads-dividends',\n",
    "'ALSTOM':'https://www.investing.com/equities/alstom-dividends',\n",
    "'AXA':'https://www.investing.com/equities/axa-dividends',\n",
    "'BNP_Paribas':'https://www.investing.com/equities/bnp-paribas-dividends',\n",
    "'BOUYGUES':'https://www.investing.com/equities/bouygues-dividends',\n",
    "'Cap_Gemini':'https://www.investing.com/equities/cap-gemini-dividends',\n",
    "'CARREFOUR':'https://www.investing.com/equities/carrefour-dividends',\n",
    "'DANONE':'https://www.investing.com/equities/danone-dividends',\n",
    "'FR_Telecom':'https://www.investing.com/equities/france-telecom-dividends',\n",
    "'ESSILOR':'https://www.investing.com/equities/essilor-internat-dividends',\n",
    "'GS':'https://www.investing.com/equities/goldman-sachs-group-dividends',\n",
    "'GDF_SUEZ':'https://www.investing.com/equities/gdf-suez-dividends',\n",
    "'LEGRAND':'https://www.investing.com/equities/legrand-dividends',\n",
    "'LOREAL':'https://www.investing.com/equities/l-oreal-dividends',\n",
    "'HALLIB':'https://www.investing.com/equities/halliburton-co-dividends',\n",
    "'MICHELIN':'https://www.investing.com/equities/michelin-dividends',\n",
    "'HDEP':'https://www.investing.com/equities/home-depot-dividends',\n",
    "'BOA':'https://www.investing.com/equities/bank-of-america-dividends',\n",
    "'CISCO':'https://www.investing.com/equities/cisco-sys-inc-dividends',\n",
    "'PUBLICIS':'https://www.investing.com/equities/publicis-groupe-dividends',\n",
    "'RENAULT':'https://www.investing.com/equities/renault-dividends',\n",
    "'ORANGE_FR':'https://www.investing.com/equities/france-telecom-dividends',\n",
    "'SCHNEIDER':'https://www.investing.com/equities/schneider-electr-dividends',\n",
    "'SGOBAIN':'https://www.investing.com/equities/saint-gobain-dividends',\n",
    "'SnfiAventis':'https://www.investing.com/equities/sanofi-dividends',\n",
    "'SOC_GEN':'https://www.investing.com/equities/societe-generale-dividends',\n",
    "'HOG':'https://www.investing.com/equities/harley-davidson-dividends',\n",
    "'VALLOUREX':'https://www.investing.com/equities/vallourec-dividends',\n",
    "'VEOLIA':'https://www.investing.com/equities/veolia-environ-dividends',\n",
    "'VINCI':'https://www.investing.com/equities/vinci-dividends',\n",
    "'VivendiFR':'https://www.investing.com/equities/vivendi-dividends',\n",
    "'AB_INBEV':'https://www.investing.com/equities/anheuser-busch-inbev-dividends',\n",
    "'ACKERMANS':'https://www.investing.com/equities/ackermans-v.haar-dividends',\n",
    "'AGEAS':'https://www.investing.com/equities/ageas-dividends',\n",
    "'NTES':'https://www.investing.com/equities/netease.com-dividends',\n",
    "'DIETEREN':'https://www.investing.com/equities/dieteren-dividends',\n",
    "'KBC':'https://www.investing.com/equities/kbc-dividends',\n",
    "'NVIDIA':'https://www.investing.com/equities/nvidia-corp-dividends',\n",
    "'UMICOR':'https://www.investing.com/equities/umicore-dividends',\n",
    "'Arcelor_M':'https://www.investing.com/equities/arcelormittal-reg-dividends',\n",
    "'ASML':'https://www.investing.com/equities/asml-holding-dividends',\n",
    "'PHILIPS_KON':'https://www.investing.com/equities/philips-kon-dividends',\n",
    "'NIKE':'https://www.investing.com/equities/nike-dividends',\n",
    "'BARCLAYS':'https://www.investing.com/equities/barclays-dividends',\n",
    "'PERNOD':'https://www.investing.com/equities/pernod-ricard-dividends',\n",
    "'GLENCORE':'https://www.investing.com/equities/glencore-dividends',\n",
    "'HSBC':'https://www.investing.com/equities/hsbc-holdings-dividends',\n",
    "'JSAINSBURY':'https://www.investing.com/equities/sainsbury-dividends',\n",
    "'LLOYDS':'https://www.investing.com/equities/lloyds-banking-grp-dividends',\n",
    "'Marks&Spncr':'https://www.investing.com/equities/marks---spencer-group-dividends',\n",
    "'CHNPETRO':'https://www.investing.com/equities/sinopec-corp-ss-dividends',\n",
    "'STANDARD_CH':'https://www.investing.com/equities/standard-chartered-dividends',\n",
    "'TOTAL':'https://www.investing.com/equities/total-dividends',\n",
    "'TESCO':'https://www.investing.com/equities/tesco-dividends',\n",
    "'UNH':'https://www.investing.com/equities/united-health-group-dividends',\n",
    "'CDR-WAR':'https://www.investing.com/equities/cdproject-dividends',\n",
    "'PZU-WAR':'https://www.investing.com/equities/pzu-dividends',\n",
    "'BELGACOM':'https://www.investing.com/equities/belgacom-dividends',\n",
    "'BANCO_S':'https://www.investing.com/equities/banco-santander-dividends',\n",
    "'INDITEX':'https://www.investing.com/equities/inditex-dividends',\n",
    "'BBVA':'https://www.investing.com/equities/bbva-dividends',\n",
    "'VODAFONE':'https://www.investing.com/equities/vodafone-dividends',\n",
    "'NOKIA-FIN':'https://www.investing.com/equities/nokia-finland-dividends',\n",
    "'LONZA':'https://www.investing.com/equities/lonza-grp-dividends',\n",
    "'NESTLE':'https://www.investing.com/equities/nestle-ag-dividends',\n",
    "'ROCHE':'https://www.investing.com/equities/roche-hldg-dividends',\n",
    "'NOVARTIS':'https://www.investing.com/equities/novartis-dividends',\n",
    "'SWATCH':'https://www.investing.com/equities/swatch-grp-i-dividends',\n",
    "'3M':'https://www.investing.com/equities/3m-co-dividends',\n",
    "'EL._FRANCE':'https://www.investing.com/equities/edf-dividends',\n",
    "'ADBE':'https://www.investing.com/equities/adobe-sys-inc-dividends',\n",
    "'AJRD':'https://www.investing.com/equities/gencorp-inc-dividends',\n",
    "'NEE':'https://www.investing.com/equities/nextera-energy-inc-dividends',\n",
    "'REPSOL':'https://www.investing.com/equities/repsol-ypf-dividends',\n",
    "'APPLE':'https://www.investing.com/equities/apple-computer-inc-dividends',\n",
    "'ATV':'https://www.investing.com/equities/acorn-international-inc-dividends',\n",
    "'CITRIX':'https://www.investing.com/equities/citrix-sys-inc-dividends',\n",
    "'BOEING':'https://www.investing.com/equities/boeing-co-dividends',\n",
    "'BUD':'https://www.investing.com/equities/anheuser-busch-exch-dividends',\n",
    "'JPM':'https://www.investing.com/equities/jp-morgan-chase-dividends',\n",
    "'CHEVRON':'https://www.investing.com/equities/chevron-dividends',\n",
    "'CHNLIFE':'https://www.investing.com/equities/china-life-insurance-comp-ltd-dividends',\n",
    "'ORACLE':'https://www.investing.com/equities/oracle-corp-dividends',\n",
    "'AMEX':'https://www.investing.com/equities/american-express-dividends',\n",
    "'CITI':'https://www.investing.com/equities/citigroup-dividends',\n",
    "'HPACK':'https://www.investing.com/equities/hewlett-packard-enterprise-co-dividends',\n",
    "'COKE':'https://www.investing.com/equities/coca-cola-co-dividends',\n",
    "'DISNEY':'https://www.investing.com/equities/disney-dividends',\n",
    "'MCARD':'https://www.investing.com/equities/mastercard-cl-a-dividends',\n",
    "'EBAY':'https://www.investing.com/equities/ebay-inc-dividends',\n",
    "'EDU':'https://www.investing.com/equities/new-oriental-education---tech-dividends',\n",
    "'EQUINIX':'https://www.investing.com/equities/equinix,-inc.-dividends',\n",
    "'EXXM':'https://www.investing.com/equities/exxon-mobil-dividends',\n",
    "'FERRARI':'https://www.investing.com/equities/ferrari-nv-dividends',\n",
    "'GE':'https://www.investing.com/equities/general-electric-dividends',\n",
    "'IBERDOLA':'https://www.investing.com/equities/iberdrola-dividends',\n",
    "'GM':'https://www.investing.com/equities/gen-motors-dividends',\n",
    "'WMART':'https://www.investing.com/equities/wal-mart-stores-dividends',\n",
    "'GILD':'https://www.investing.com/equities/gilead-sciences-inc-dividends',\n",
    "'MERCKUS':'https://www.investing.com/equities/merck---co-dividends',\n",
    "'ABBOT':'https://www.investing.com/equities/abbott-laboratories-dividends',\n",
    "'SOLVAY':'https://www.investing.com/equities/solvay-dividends',\n",
    "'IBM':'https://www.investing.com/equities/ibm-dividends',\n",
    "'INTEL':'https://www.investing.com/equities/intel-corp-dividends',\n",
    "'JNJ':'https://www.investing.com/equities/johnson-johnson-dividends',\n",
    "'PPR':'https://www.investing.com/equities/kering-dividends',\n",
    "'CATER':'https://www.investing.com/equities/caterpillar-dividends',\n",
    "'MACYS':'https://www.investing.com/equities/macys-dividends',\n",
    "'MAT':'https://www.investing.com/equities/mattel-inc-dividends',\n",
    "'STARBUCKS':'https://www.investing.com/equities/starbucks-corp-dividends',\n",
    "'MCDON':'https://www.investing.com/equities/mcdonalds-dividends',\n",
    "'SEAGATE':'https://www.investing.com/equities/seagate-technology-dividends',\n",
    "'MOMO':'https://www.investing.com/equities/momo-inc-dividends',\n",
    "'MORSTAN':'https://www.investing.com/equities/morgan-stanley-dividends',\n",
    "'SAFRAN':'https://www.investing.com/equities/safran-dividends',\n",
    "'MYLAN':'https://www.investing.com/equities/mylan-inc-dividends',\n",
    "'RSA':'https://www.investing.com/equities/royal---sun-alliance-dividends',\n",
    "'PFIZER':'https://www.investing.com/equities/pfizer-dividends',\n",
    "'NOC':'https://www.investing.com/equities/northrop-grumman-dividends',\n",
    "'NOKIA':'https://www.investing.com/equities/nokia-corp-exch-dividends',\n",
    "'SIEMENS':'https://www.investing.com/equities/siemens-dividends',\n",
    "'AMGEN':'https://www.investing.com/equities/amgen-inc-dividends',\n",
    "'NVO':'https://www.investing.com/equities/novo-nordis-dividends',\n",
    "'MSFT':'https://www.investing.com/equities/microsoft-corp-dividends',\n",
    "'PAYCHEX':'https://www.investing.com/equities/paychex-inc-dividends',\n",
    "'TARGET':'https://www.investing.com/equities/target-dividends',\n",
    "'PG':'https://www.investing.com/equities/procter-gamble-dividends',\n",
    "'RDS':'https://www.investing.com/equities/royal-dutch-shell-a-plc-dividends',\n",
    "'BPLON':'https://www.investing.com/equities/bp-dividends',\n",
    "'SHINHAN':'https://www.investing.com/equities/shinhan-financial-group-co-ltd-dividends',\n",
    "'SNAP':'https://www.investing.com/equities/snapon-inc-dividends',\n",
    "'SONY':'https://www.investing.com/equities/sony-dividends',\n",
    "'AstraZeneca':'https://www.investing.com/equities/astrazeneca-dividends',\n",
    "'LMT':'https://www.investing.com/equities/lockheed-martin-dividends',\n",
    "'TOYOTA':'https://www.investing.com/equities/toyota-dividends',\n",
    "'INFINEON':'https://www.investing.com/equities/infineon-tech-dividends',\n",
    "'VISA':'https://www.investing.com/equities/visa-inc-dividends',\n",
    "'ANNINGTON':'https://www.investing.com/equities/deutsche-annington-immobilien-se-dividends',\n",
    "'WYNN':'https://www.investing.com/equities/wynn-resorts-ltd-dividends',\n",
    "'YIRENDAI':'https://www.investing.com/equities/yirendai-ltd-dividends',\n",
    "'CCL':'https://www.investing.com/equities/carnival-corp-exch-dividends',\n",
    "'FDX':'https://www.investing.com/equities/fedex-corp-dividends',\n",
    "'USSTEEL':'https://www.investing.com/equities/us-steel-corp-dividends' ,\n",
    "'UGANDA':'https://www.investing.com/equities/uganda-clays-ltd-dividends' ,\n",
    "'BATU':'https://www.investing.com/equities/british-american-tobacco-uganda-dividends',\n",
    "'BOBU':'https://www.investing.com/equities/bank-of-baroda-uganda-dividends' , \n",
    "'DFCU':'https://www.investing.com/equities/development-finance-co-dividends'\n",
    "\n",
    "}\n"
   ]
  },
  {
   "cell_type": "code",
   "execution_count": 3,
   "metadata": {
    "scrolled": true
   },
   "outputs": [
    {
     "name": "stdout",
     "output_type": "stream",
     "text": [
      "   Ex-Dividend Date  Dividend  Type  Payment Date   Yield  \\\n",
      "0      Mar 19, 2021      1.20   NaN  Apr 09, 2021   4.98%   \n",
      "1      Dec 22, 2020      1.20   NaN  Jan 11, 2021   5.74%   \n",
      "2      Sep 23, 2020      1.20   NaN  Oct 13, 2020   5.81%   \n",
      "3      Jun 19, 2020      1.17   NaN  Jul 10, 2020   5.92%   \n",
      "4      Mar 20, 2020      1.17   NaN  Apr 09, 2020   6.31%   \n",
      "..              ...       ...   ...           ...     ...   \n",
      "0      Jul 11, 2019     33.01   NaN  Jul 31, 2019   5.12%   \n",
      "1      Jun 29, 2018     68.24   NaN  Jul 31, 2018  10.19%   \n",
      "2      Jun 30, 2017     46.92   NaN  Jul 31, 2017   6.22%   \n",
      "3      May 31, 2016     21.73   NaN  Jul 31, 2016   2.86%   \n",
      "4      Jun 02, 2014      8.92   NaN  Jul 25, 2014   0.96%   \n",
      "\n",
      "                                                  URL   symbol  \n",
      "0   https://www.investing.com/equities/philip-morr...  PHILIPM  \n",
      "1   https://www.investing.com/equities/philip-morr...  PHILIPM  \n",
      "2   https://www.investing.com/equities/philip-morr...  PHILIPM  \n",
      "3   https://www.investing.com/equities/philip-morr...  PHILIPM  \n",
      "4   https://www.investing.com/equities/philip-morr...  PHILIPM  \n",
      "..                                                ...      ...  \n",
      "0   https://www.investing.com/equities/development...     DFCU  \n",
      "1   https://www.investing.com/equities/development...     DFCU  \n",
      "2   https://www.investing.com/equities/development...     DFCU  \n",
      "3   https://www.investing.com/equities/development...     DFCU  \n",
      "4   https://www.investing.com/equities/development...     DFCU  \n",
      "\n",
      "[1404 rows x 7 columns]\n",
      "   Ex-Dividend Date  Dividend  Type  Payment Date   Yield  \\\n",
      "0      Mar 19, 2021      1.20   NaN  Apr 09, 2021   4.98%   \n",
      "1      Dec 22, 2020      1.20   NaN  Jan 11, 2021   5.74%   \n",
      "2      Sep 23, 2020      1.20   NaN  Oct 13, 2020   5.81%   \n",
      "3      Jun 19, 2020      1.17   NaN  Jul 10, 2020   5.92%   \n",
      "4      Mar 20, 2020      1.17   NaN  Apr 09, 2020   6.31%   \n",
      "..              ...       ...   ...           ...     ...   \n",
      "0      Jul 11, 2019     33.01   NaN  Jul 31, 2019   5.12%   \n",
      "1      Jun 29, 2018     68.24   NaN  Jul 31, 2018  10.19%   \n",
      "2      Jun 30, 2017     46.92   NaN  Jul 31, 2017   6.22%   \n",
      "3      May 31, 2016     21.73   NaN  Jul 31, 2016   2.86%   \n",
      "4      Jun 02, 2014      8.92   NaN  Jul 25, 2014   0.96%   \n",
      "\n",
      "                                                  URL   symbol  \n",
      "0   https://www.investing.com/equities/philip-morr...  PHILIPM  \n",
      "1   https://www.investing.com/equities/philip-morr...  PHILIPM  \n",
      "2   https://www.investing.com/equities/philip-morr...  PHILIPM  \n",
      "3   https://www.investing.com/equities/philip-morr...  PHILIPM  \n",
      "4   https://www.investing.com/equities/philip-morr...  PHILIPM  \n",
      "..                                                ...      ...  \n",
      "0   https://www.investing.com/equities/development...     DFCU  \n",
      "1   https://www.investing.com/equities/development...     DFCU  \n",
      "2   https://www.investing.com/equities/development...     DFCU  \n",
      "3   https://www.investing.com/equities/development...     DFCU  \n",
      "4   https://www.investing.com/equities/development...     DFCU  \n",
      "\n",
      "[1404 rows x 7 columns]\n"
     ]
    }
   ],
   "source": [
    "\n",
    "\n",
    "import validators\n",
    "driver = webdriver.Chrome('C:/Users/User/Downloads/chromedriver_win32/chromedriver.exe')\n",
    "\n",
    "appended_data = []\n",
    "\n",
    "for symbol,url in url_link.items():\n",
    "    valid = validators.url(url)\n",
    "    if valid == True:\n",
    "        driver.get(url)\n",
    "        if driver.find_element_by_xpath(\"//table[starts-with(@id,'dividendsHistory')]\") is not None:\n",
    "            tbl = driver.find_element_by_xpath(\"//table[starts-with(@id,'dividendsHistory')]\").get_attribute('outerHTML')\n",
    "            df= pd.read_html(tbl)\n",
    "            df = df[0]\n",
    "            df.insert(loc=5, column='URL', value=url)\n",
    "            df.insert(loc=6, column='symbol', value=symbol)\n",
    "            appended_data.append(df)\n",
    "            \n",
    "\n",
    "appended_data = pd.concat(appended_data)\n",
    "print(appended_data)\n",
    "appended_data.to_csv(r'C:\\Users\\User\\Desktop\\Project\\Div12.csv')\n",
    "df2=pd.DataFrame(appended_data)\n",
    "print(df2)\n",
    "driver.quit()\n"
   ]
  },
  {
   "cell_type": "code",
   "execution_count": 35,
   "metadata": {},
   "outputs": [
    {
     "data": {
      "text/plain": [
       "Index(['Unnamed: 0', 'Ex-Dividend Date', 'Dividend', 'Type', 'Payment Date',\n",
       "       'Yield', 'URL', 'symbol'],\n",
       "      dtype='object')"
      ]
     },
     "execution_count": 35,
     "metadata": {},
     "output_type": "execute_result"
    }
   ],
   "source": [
    "import pandas as pd\n",
    "DF=pd.read_csv('Div12.csv')\n",
    "DF=DF[DF['Yield']!='#VALUE!']\n",
    "DF.columns"
   ]
  },
  {
   "cell_type": "code",
   "execution_count": 3,
   "metadata": {},
   "outputs": [
    {
     "data": {
      "text/html": [
       "<div>\n",
       "<style scoped>\n",
       "    .dataframe tbody tr th:only-of-type {\n",
       "        vertical-align: middle;\n",
       "    }\n",
       "\n",
       "    .dataframe tbody tr th {\n",
       "        vertical-align: top;\n",
       "    }\n",
       "\n",
       "    .dataframe thead th {\n",
       "        text-align: right;\n",
       "    }\n",
       "</style>\n",
       "<table border=\"1\" class=\"dataframe\">\n",
       "  <thead>\n",
       "    <tr style=\"text-align: right;\">\n",
       "      <th></th>\n",
       "      <th>Ex-Dividend Date</th>\n",
       "      <th>Dividend</th>\n",
       "      <th>Payment Date</th>\n",
       "      <th>Yield</th>\n",
       "      <th>URL</th>\n",
       "      <th>symbol</th>\n",
       "    </tr>\n",
       "  </thead>\n",
       "  <tbody>\n",
       "    <tr>\n",
       "      <th>0</th>\n",
       "      <td>Mar 19, 2021</td>\n",
       "      <td>1.20</td>\n",
       "      <td>Apr 09, 2021</td>\n",
       "      <td>0.0498</td>\n",
       "      <td>https://www.investing.com/equities/philip-morr...</td>\n",
       "      <td>PHILIPM</td>\n",
       "    </tr>\n",
       "    <tr>\n",
       "      <th>1</th>\n",
       "      <td>Dec 22, 2020</td>\n",
       "      <td>1.20</td>\n",
       "      <td>Jan 11, 2021</td>\n",
       "      <td>0.0574</td>\n",
       "      <td>https://www.investing.com/equities/philip-morr...</td>\n",
       "      <td>PHILIPM</td>\n",
       "    </tr>\n",
       "    <tr>\n",
       "      <th>2</th>\n",
       "      <td>Sep 23, 2020</td>\n",
       "      <td>1.20</td>\n",
       "      <td>Oct 13, 2020</td>\n",
       "      <td>0.0581</td>\n",
       "      <td>https://www.investing.com/equities/philip-morr...</td>\n",
       "      <td>PHILIPM</td>\n",
       "    </tr>\n",
       "    <tr>\n",
       "      <th>3</th>\n",
       "      <td>Jun 19, 2020</td>\n",
       "      <td>1.17</td>\n",
       "      <td>Jul 10, 2020</td>\n",
       "      <td>0.0592</td>\n",
       "      <td>https://www.investing.com/equities/philip-morr...</td>\n",
       "      <td>PHILIPM</td>\n",
       "    </tr>\n",
       "    <tr>\n",
       "      <th>4</th>\n",
       "      <td>Mar 20, 2020</td>\n",
       "      <td>1.17</td>\n",
       "      <td>Apr 09, 2020</td>\n",
       "      <td>0.0631</td>\n",
       "      <td>https://www.investing.com/equities/philip-morr...</td>\n",
       "      <td>PHILIPM</td>\n",
       "    </tr>\n",
       "  </tbody>\n",
       "</table>\n",
       "</div>"
      ],
      "text/plain": [
       "  Ex-Dividend Date  Dividend  Payment Date   Yield  \\\n",
       "0     Mar 19, 2021      1.20  Apr 09, 2021  0.0498   \n",
       "1     Dec 22, 2020      1.20  Jan 11, 2021  0.0574   \n",
       "2     Sep 23, 2020      1.20  Oct 13, 2020  0.0581   \n",
       "3     Jun 19, 2020      1.17  Jul 10, 2020  0.0592   \n",
       "4     Mar 20, 2020      1.17  Apr 09, 2020  0.0631   \n",
       "\n",
       "                                                 URL   symbol  \n",
       "0  https://www.investing.com/equities/philip-morr...  PHILIPM  \n",
       "1  https://www.investing.com/equities/philip-morr...  PHILIPM  \n",
       "2  https://www.investing.com/equities/philip-morr...  PHILIPM  \n",
       "3  https://www.investing.com/equities/philip-morr...  PHILIPM  \n",
       "4  https://www.investing.com/equities/philip-morr...  PHILIPM  "
      ]
     },
     "execution_count": 3,
     "metadata": {},
     "output_type": "execute_result"
    }
   ],
   "source": [
    "#filter data\n",
    "\n",
    "DF.rename(columns={'Unnamed: 0': 'dROP'}, inplace=True)\n",
    "DF.drop(columns='dROP',inplace=True)\n",
    "DF.drop(columns='Type',inplace=True)\n",
    "\n",
    "DF.head(5)\n"
   ]
  },
  {
   "cell_type": "code",
   "execution_count": 4,
   "metadata": {},
   "outputs": [
    {
     "name": "stdout",
     "output_type": "stream",
     "text": [
      "<class 'pandas.core.frame.DataFrame'>\n",
      "Int64Index: 1363 entries, 0 to 1403\n",
      "Data columns (total 7 columns):\n",
      " #   Column            Non-Null Count  Dtype         \n",
      "---  ------            --------------  -----         \n",
      " 0   Ex-Dividend Date  1363 non-null   datetime64[ns]\n",
      " 1   Dividend          1363 non-null   float64       \n",
      " 2   Payment Date      1363 non-null   datetime64[ns]\n",
      " 3   Yield             1363 non-null   object        \n",
      " 4   URL               1363 non-null   object        \n",
      " 5   symbol            1363 non-null   object        \n",
      " 6   Yeild_new         1363 non-null   float64       \n",
      "dtypes: datetime64[ns](2), float64(2), object(3)\n",
      "memory usage: 85.2+ KB\n"
     ]
    }
   ],
   "source": [
    "DF['Ex-Dividend Date']= pd.to_datetime(DF['Ex-Dividend Date']) #change object to Date\n",
    "DF['Payment Date']= pd.to_datetime(DF['Payment Date']) #change object to Date  \n",
    "DF['Yeild_new']=pd.to_numeric(DF['Yield']) #Remove \"%\" and change the Data type to Numeric \n",
    "DF.info()\n"
   ]
  },
  {
   "cell_type": "code",
   "execution_count": 5,
   "metadata": {},
   "outputs": [
    {
     "data": {
      "text/plain": [
       "symbol\n",
       "3M          1.473333\n",
       "AAREAL      1.775000\n",
       "ABBOT       0.390000\n",
       "AB_INBEV    1.666667\n",
       "ACCOR       1.020000\n",
       "              ...   \n",
       "WACKER      2.000000\n",
       "WIRECARD    0.162000\n",
       "WMART       0.545000\n",
       "WYNN        0.916667\n",
       "YIRENDAI    0.280000\n",
       "Name: Dividend, Length: 243, dtype: float64"
      ]
     },
     "execution_count": 5,
     "metadata": {},
     "output_type": "execute_result"
    }
   ],
   "source": [
    "#Remove extreame rows from the data in order grafh be nice\n",
    "DF.groupby(by='symbol')['Dividend'].mean()\n",
    "df_nintendo=DF[(DF.symbol == \"NINTENDO\")]\n",
    "DF2=DF[(DF.symbol != \"NINTENDO\")]\n",
    "DF2.groupby(by='symbol')['Dividend'].mean()"
   ]
  },
  {
   "cell_type": "code",
   "execution_count": 6,
   "metadata": {},
   "outputs": [
    {
     "name": "stderr",
     "output_type": "stream",
     "text": [
      "<ipython-input-6-665ac38505f7>:3: SettingWithCopyWarning: \n",
      "A value is trying to be set on a copy of a slice from a DataFrame.\n",
      "Try using .loc[row_indexer,col_indexer] = value instead\n",
      "\n",
      "See the caveats in the documentation: https://pandas.pydata.org/pandas-docs/stable/user_guide/indexing.html#returning-a-view-versus-a-copy\n",
      "  DF2['year'] = DF2['Ex-Dividend Date'].dt.year\n",
      "<ipython-input-6-665ac38505f7>:4: SettingWithCopyWarning: \n",
      "A value is trying to be set on a copy of a slice from a DataFrame.\n",
      "Try using .loc[row_indexer,col_indexer] = value instead\n",
      "\n",
      "See the caveats in the documentation: https://pandas.pydata.org/pandas-docs/stable/user_guide/indexing.html#returning-a-view-versus-a-copy\n",
      "  DF2['Month'] = DF2['Ex-Dividend Date'].dt.month\n",
      "<ipython-input-6-665ac38505f7>:6: SettingWithCopyWarning: \n",
      "A value is trying to be set on a copy of a slice from a DataFrame.\n",
      "Try using .loc[row_indexer,col_indexer] = value instead\n",
      "\n",
      "See the caveats in the documentation: https://pandas.pydata.org/pandas-docs/stable/user_guide/indexing.html#returning-a-view-versus-a-copy\n",
      "  DF2['divided_formatted_date']=divided_formatted_date\n"
     ]
    },
    {
     "data": {
      "text/html": [
       "<div>\n",
       "<style scoped>\n",
       "    .dataframe tbody tr th:only-of-type {\n",
       "        vertical-align: middle;\n",
       "    }\n",
       "\n",
       "    .dataframe tbody tr th {\n",
       "        vertical-align: top;\n",
       "    }\n",
       "\n",
       "    .dataframe thead th {\n",
       "        text-align: right;\n",
       "    }\n",
       "</style>\n",
       "<table border=\"1\" class=\"dataframe\">\n",
       "  <thead>\n",
       "    <tr style=\"text-align: right;\">\n",
       "      <th></th>\n",
       "      <th>Ex-Dividend Date</th>\n",
       "      <th>Dividend</th>\n",
       "      <th>Payment Date</th>\n",
       "      <th>Yield</th>\n",
       "      <th>URL</th>\n",
       "      <th>symbol</th>\n",
       "      <th>Yeild_new</th>\n",
       "      <th>year</th>\n",
       "      <th>Month</th>\n",
       "      <th>divided_formatted_date</th>\n",
       "    </tr>\n",
       "  </thead>\n",
       "  <tbody>\n",
       "    <tr>\n",
       "      <th>0</th>\n",
       "      <td>2021-03-19</td>\n",
       "      <td>1.20</td>\n",
       "      <td>2021-04-09</td>\n",
       "      <td>0.0498</td>\n",
       "      <td>https://www.investing.com/equities/philip-morr...</td>\n",
       "      <td>PHILIPM</td>\n",
       "      <td>0.0498</td>\n",
       "      <td>2021</td>\n",
       "      <td>3</td>\n",
       "      <td>3-2021</td>\n",
       "    </tr>\n",
       "    <tr>\n",
       "      <th>1</th>\n",
       "      <td>2020-12-22</td>\n",
       "      <td>1.20</td>\n",
       "      <td>2021-01-11</td>\n",
       "      <td>0.0574</td>\n",
       "      <td>https://www.investing.com/equities/philip-morr...</td>\n",
       "      <td>PHILIPM</td>\n",
       "      <td>0.0574</td>\n",
       "      <td>2020</td>\n",
       "      <td>12</td>\n",
       "      <td>12-2020</td>\n",
       "    </tr>\n",
       "    <tr>\n",
       "      <th>2</th>\n",
       "      <td>2020-09-23</td>\n",
       "      <td>1.20</td>\n",
       "      <td>2020-10-13</td>\n",
       "      <td>0.0581</td>\n",
       "      <td>https://www.investing.com/equities/philip-morr...</td>\n",
       "      <td>PHILIPM</td>\n",
       "      <td>0.0581</td>\n",
       "      <td>2020</td>\n",
       "      <td>9</td>\n",
       "      <td>9-2020</td>\n",
       "    </tr>\n",
       "    <tr>\n",
       "      <th>3</th>\n",
       "      <td>2020-06-19</td>\n",
       "      <td>1.17</td>\n",
       "      <td>2020-07-10</td>\n",
       "      <td>0.0592</td>\n",
       "      <td>https://www.investing.com/equities/philip-morr...</td>\n",
       "      <td>PHILIPM</td>\n",
       "      <td>0.0592</td>\n",
       "      <td>2020</td>\n",
       "      <td>6</td>\n",
       "      <td>6-2020</td>\n",
       "    </tr>\n",
       "  </tbody>\n",
       "</table>\n",
       "</div>"
      ],
      "text/plain": [
       "  Ex-Dividend Date  Dividend Payment Date   Yield  \\\n",
       "0       2021-03-19      1.20   2021-04-09  0.0498   \n",
       "1       2020-12-22      1.20   2021-01-11  0.0574   \n",
       "2       2020-09-23      1.20   2020-10-13  0.0581   \n",
       "3       2020-06-19      1.17   2020-07-10  0.0592   \n",
       "\n",
       "                                                 URL   symbol  Yeild_new  \\\n",
       "0  https://www.investing.com/equities/philip-morr...  PHILIPM     0.0498   \n",
       "1  https://www.investing.com/equities/philip-morr...  PHILIPM     0.0574   \n",
       "2  https://www.investing.com/equities/philip-morr...  PHILIPM     0.0581   \n",
       "3  https://www.investing.com/equities/philip-morr...  PHILIPM     0.0592   \n",
       "\n",
       "   year  Month divided_formatted_date  \n",
       "0  2021      3                 3-2021  \n",
       "1  2020     12                12-2020  \n",
       "2  2020      9                 9-2020  \n",
       "3  2020      6                 6-2020  "
      ]
     },
     "execution_count": 6,
     "metadata": {},
     "output_type": "execute_result"
    }
   ],
   "source": [
    " #change format of the dates\n",
    "\n",
    "DF2['year'] = DF2['Ex-Dividend Date'].dt.year\n",
    "DF2['Month'] = DF2['Ex-Dividend Date'].dt.month\n",
    "divided_formatted_date=DF2['Month'].astype(str)+\"-\"+ DF2['year'].astype(str) \n",
    "DF2['divided_formatted_date']=divided_formatted_date\n",
    "DF2.head(4)\n"
   ]
  },
  {
   "cell_type": "code",
   "execution_count": 8,
   "metadata": {},
   "outputs": [],
   "source": [
    "import seaborn as sns"
   ]
  },
  {
   "cell_type": "code",
   "execution_count": 9,
   "metadata": {},
   "outputs": [
    {
     "data": {
      "text/plain": [
       "<AxesSubplot:xlabel='Ex-Dividend Date', ylabel='Dividend'>"
      ]
     },
     "execution_count": 9,
     "metadata": {},
     "output_type": "execute_result"
    },
    {
     "data": {
      "image/png": "[encoded data removed]",
      "text/plain": [
       "<Figure size 432x288 with 1 Axes>"
      ]
     },
     "metadata": {
      "needs_background": "light"
     },
     "output_type": "display_data"
    }
   ],
   "source": [
    "rslt_df = DF2[DF2['year'] >= 2014] \n",
    "rslt_df = rslt_df[rslt_df['year'] < 2021] \n",
    "rslt_df\n",
    " #by year \n",
    "sns.barplot(y = rslt_df.Dividend, x = rslt_df['Ex-Dividend Date'].dt.year) "
   ]
  },
  {
   "cell_type": "code",
   "execution_count": 10,
   "metadata": {},
   "outputs": [
    {
     "data": {
      "text/plain": [
       "<AxesSubplot:xlabel='Ex-Dividend Date', ylabel='Dividend'>"
      ]
     },
     "execution_count": 10,
     "metadata": {},
     "output_type": "execute_result"
    },
    {
     "data": {
      "image/png": "[encoded data removed]",
      "text/plain": [
       "<Figure size 432x288 with 1 Axes>"
      ]
     },
     "metadata": {
      "needs_background": "light"
     },
     "output_type": "display_data"
    }
   ],
   "source": [
    "#by Q and year\n",
    "sns.barplot(y = rslt_df.Dividend, hue = rslt_df['Ex-Dividend Date'].dt.year,x=rslt_df['Ex-Dividend Date'].dt.quarter)"
   ]
  },
  {
   "cell_type": "code",
   "execution_count": 11,
   "metadata": {},
   "outputs": [
    {
     "data": {
      "text/plain": [
       "<AxesSubplot:xlabel='Ex-Dividend Date', ylabel='Dividend'>"
      ]
     },
     "execution_count": 11,
     "metadata": {},
     "output_type": "execute_result"
    },
    {
     "data": {
      "image/png": "[encoded data removed]",
      "text/plain": [
       "<Figure size 432x288 with 1 Axes>"
      ]
     },
     "metadata": {
      "needs_background": "light"
     },
     "output_type": "display_data"
    }
   ],
   "source": [
    "#only Q\n",
    "sns.barplot(y = DF2.Dividend, x = DF2['Ex-Dividend Date'].dt.quarter) #when was the biigest divided payment(quarter)"
   ]
  },
  {
   "cell_type": "code",
   "execution_count": 12,
   "metadata": {},
   "outputs": [
    {
     "data": {
      "text/plain": [
       "<AxesSubplot:xlabel='Dividend', ylabel='Yeild_new'>"
      ]
     },
     "execution_count": 12,
     "metadata": {},
     "output_type": "execute_result"
    },
    {
     "data": {
      "image/png": "[encoded data removed]",
      "text/plain": [
       "<Figure size 432x288 with 1 Axes>"
      ]
     },
     "metadata": {
      "needs_background": "light"
     },
     "output_type": "display_data"
    }
   ],
   "source": [
    "#scatter plot Yield~Dividend\n",
    "sns.scatterplot(data=DF2, x=\"Dividend\", y=\"Yeild_new\", hue=\"year\")"
   ]
  },
  {
   "cell_type": "code",
   "execution_count": 61,
   "metadata": {},
   "outputs": [
    {
     "data": {
      "text/plain": [
       "<AxesSubplot:xlabel='Month', ylabel='year'>"
      ]
     },
     "execution_count": 61,
     "metadata": {},
     "output_type": "execute_result"
    },
    {
     "data": {
      "image/png": "[encoded data removed]",
      "text/plain": [
       "<Figure size 432x288 with 1 Axes>"
      ]
     },
     "metadata": {},
     "output_type": "display_data"
    }
   ],
   "source": [
    "#Dividend by month,year\n",
    "sns.scatterplot(data=DF2, x=\"Month\", y=\"year\", hue=\"Dividend\")"
   ]
  },
  {
   "cell_type": "code",
   "execution_count": 44,
   "metadata": {},
   "outputs": [
    {
     "data": {
      "text/html": [
       "<style  type=\"text/css\" >\n",
       "#T_9b9cb19a_cfb0_11eb_ba77_646c807064f6row0_col0,#T_9b9cb19a_cfb0_11eb_ba77_646c807064f6row1_col1,#T_9b9cb19a_cfb0_11eb_ba77_646c807064f6row2_col2,#T_9b9cb19a_cfb0_11eb_ba77_646c807064f6row3_col3{\n",
       "            background-color:  #b40426;\n",
       "            color:  #f1f1f1;\n",
       "        }#T_9b9cb19a_cfb0_11eb_ba77_646c807064f6row0_col1{\n",
       "            background-color:  #4055c8;\n",
       "            color:  #f1f1f1;\n",
       "        }#T_9b9cb19a_cfb0_11eb_ba77_646c807064f6row0_col2{\n",
       "            background-color:  #3f53c6;\n",
       "            color:  #f1f1f1;\n",
       "        }#T_9b9cb19a_cfb0_11eb_ba77_646c807064f6row0_col3,#T_9b9cb19a_cfb0_11eb_ba77_646c807064f6row2_col0{\n",
       "            background-color:  #3e51c5;\n",
       "            color:  #f1f1f1;\n",
       "        }#T_9b9cb19a_cfb0_11eb_ba77_646c807064f6row1_col0{\n",
       "            background-color:  #3c4ec2;\n",
       "            color:  #f1f1f1;\n",
       "        }#T_9b9cb19a_cfb0_11eb_ba77_646c807064f6row1_col2{\n",
       "            background-color:  #465ecf;\n",
       "            color:  #f1f1f1;\n",
       "        }#T_9b9cb19a_cfb0_11eb_ba77_646c807064f6row1_col3,#T_9b9cb19a_cfb0_11eb_ba77_646c807064f6row3_col0,#T_9b9cb19a_cfb0_11eb_ba77_646c807064f6row3_col1,#T_9b9cb19a_cfb0_11eb_ba77_646c807064f6row3_col2{\n",
       "            background-color:  #3b4cc0;\n",
       "            color:  #f1f1f1;\n",
       "        }#T_9b9cb19a_cfb0_11eb_ba77_646c807064f6row2_col1{\n",
       "            background-color:  #4a63d3;\n",
       "            color:  #f1f1f1;\n",
       "        }#T_9b9cb19a_cfb0_11eb_ba77_646c807064f6row2_col3{\n",
       "            background-color:  #3d50c3;\n",
       "            color:  #f1f1f1;\n",
       "        }</style><table id=\"T_9b9cb19a_cfb0_11eb_ba77_646c807064f6\" ><thead>    <tr>        <th class=\"blank level0\" ></th>        <th class=\"col_heading level0 col0\" >Dividend</th>        <th class=\"col_heading level0 col1\" >Yeild_new</th>        <th class=\"col_heading level0 col2\" >Month</th>        <th class=\"col_heading level0 col3\" >year</th>    </tr></thead><tbody>\n",
       "                <tr>\n",
       "                        <th id=\"T_9b9cb19a_cfb0_11eb_ba77_646c807064f6level0_row0\" class=\"row_heading level0 row0\" >Dividend</th>\n",
       "                        <td id=\"T_9b9cb19a_cfb0_11eb_ba77_646c807064f6row0_col0\" class=\"data row0 col0\" >1.000000</td>\n",
       "                        <td id=\"T_9b9cb19a_cfb0_11eb_ba77_646c807064f6row0_col1\" class=\"data row0 col1\" >-0.004513</td>\n",
       "                        <td id=\"T_9b9cb19a_cfb0_11eb_ba77_646c807064f6row0_col2\" class=\"data row0 col2\" >0.003248</td>\n",
       "                        <td id=\"T_9b9cb19a_cfb0_11eb_ba77_646c807064f6row0_col3\" class=\"data row0 col3\" >-0.011536</td>\n",
       "            </tr>\n",
       "            <tr>\n",
       "                        <th id=\"T_9b9cb19a_cfb0_11eb_ba77_646c807064f6level0_row1\" class=\"row_heading level0 row1\" >Yeild_new</th>\n",
       "                        <td id=\"T_9b9cb19a_cfb0_11eb_ba77_646c807064f6row1_col0\" class=\"data row1 col0\" >-0.004513</td>\n",
       "                        <td id=\"T_9b9cb19a_cfb0_11eb_ba77_646c807064f6row1_col1\" class=\"data row1 col1\" >1.000000</td>\n",
       "                        <td id=\"T_9b9cb19a_cfb0_11eb_ba77_646c807064f6row1_col2\" class=\"data row1 col2\" >0.027777</td>\n",
       "                        <td id=\"T_9b9cb19a_cfb0_11eb_ba77_646c807064f6row1_col3\" class=\"data row1 col3\" >-0.025415</td>\n",
       "            </tr>\n",
       "            <tr>\n",
       "                        <th id=\"T_9b9cb19a_cfb0_11eb_ba77_646c807064f6level0_row2\" class=\"row_heading level0 row2\" >Month</th>\n",
       "                        <td id=\"T_9b9cb19a_cfb0_11eb_ba77_646c807064f6row2_col0\" class=\"data row2 col0\" >0.003248</td>\n",
       "                        <td id=\"T_9b9cb19a_cfb0_11eb_ba77_646c807064f6row2_col1\" class=\"data row2 col1\" >0.027777</td>\n",
       "                        <td id=\"T_9b9cb19a_cfb0_11eb_ba77_646c807064f6row2_col2\" class=\"data row2 col2\" >1.000000</td>\n",
       "                        <td id=\"T_9b9cb19a_cfb0_11eb_ba77_646c807064f6row2_col3\" class=\"data row2 col3\" >-0.015675</td>\n",
       "            </tr>\n",
       "            <tr>\n",
       "                        <th id=\"T_9b9cb19a_cfb0_11eb_ba77_646c807064f6level0_row3\" class=\"row_heading level0 row3\" >year</th>\n",
       "                        <td id=\"T_9b9cb19a_cfb0_11eb_ba77_646c807064f6row3_col0\" class=\"data row3 col0\" >-0.011536</td>\n",
       "                        <td id=\"T_9b9cb19a_cfb0_11eb_ba77_646c807064f6row3_col1\" class=\"data row3 col1\" >-0.025415</td>\n",
       "                        <td id=\"T_9b9cb19a_cfb0_11eb_ba77_646c807064f6row3_col2\" class=\"data row3 col2\" >-0.015675</td>\n",
       "                        <td id=\"T_9b9cb19a_cfb0_11eb_ba77_646c807064f6row3_col3\" class=\"data row3 col3\" >1.000000</td>\n",
       "            </tr>\n",
       "    </tbody></table>"
      ],
      "text/plain": [
       "<pandas.io.formats.style.Styler at 0x158bdd1d1c0>"
      ]
     },
     "execution_count": 44,
     "metadata": {},
     "output_type": "execute_result"
    }
   ],
   "source": [
    "#correlation plot\n",
    "corr = DF2[[\"Dividend\",\"Yeild_new\",\"Month\",\"year\"]].corr()\n",
    "corr.style.background_gradient(cmap='coolwarm')"
   ]
  },
  {
   "cell_type": "code",
   "execution_count": 15,
   "metadata": {},
   "outputs": [
    {
     "data": {
      "text/plain": [
       "<seaborn.axisgrid.PairGrid at 0x158baa31760>"
      ]
     },
     "execution_count": 15,
     "metadata": {},
     "output_type": "execute_result"
    },
    {
     "data": {
      "image/png": "[encoded data removed]",
      "text/plain": [
       "<Figure size 720x720 with 20 Axes>"
      ]
     },
     "metadata": {
      "needs_background": "light"
     },
     "output_type": "display_data"
    }
   ],
   "source": [
    "sns.pairplot(data=DF2) "
   ]
  },
  {
   "cell_type": "code",
   "execution_count": 16,
   "metadata": {},
   "outputs": [],
   "source": [
    "#split data to train and test\n",
    "from sklearn.model_selection import train_test_split\n",
    "X=DF2[['Yeild_new']]\n",
    "y=DF2[['Dividend']]\n",
    "X_train, X_test, y_train, y_test = train_test_split(X, y, test_size=0.2, random_state=42)"
   ]
  },
  {
   "cell_type": "code",
   "execution_count": 17,
   "metadata": {},
   "outputs": [
    {
     "name": "stdout",
     "output_type": "stream",
     "text": [
      "8.1135245404651e-05\n"
     ]
    },
    {
     "data": {
      "text/plain": [
       "513.3886251261463"
      ]
     },
     "execution_count": 17,
     "metadata": {},
     "output_type": "execute_result"
    }
   ],
   "source": [
    "#fitting linear reggression\n",
    "from sklearn.linear_model import LinearRegression\n",
    "from sklearn.metrics import mean_squared_error\n",
    "regressor = LinearRegression()\n",
    "regressor.fit(X_train, y_train)\n",
    "\n",
    "#R squared of the prediction\n",
    "print(regressor.score(X_train, y_train))\n",
    "\n",
    "#MSE train\n",
    "y_train_pred = regressor.predict(X_train)\n",
    "mean_squared_error(y_train, y_train_pred)"
   ]
  },
  {
   "cell_type": "code",
   "execution_count": 18,
   "metadata": {},
   "outputs": [
    {
     "data": {
      "text/plain": [
       "array([3.80628476])"
      ]
     },
     "execution_count": 18,
     "metadata": {},
     "output_type": "execute_result"
    }
   ],
   "source": [
    "#regression intercept\n",
    "regressor.intercept_"
   ]
  },
  {
   "cell_type": "code",
   "execution_count": 19,
   "metadata": {},
   "outputs": [
    {
     "data": {
      "text/plain": [
       "array([[7.88431071]])"
      ]
     },
     "execution_count": 19,
     "metadata": {},
     "output_type": "execute_result"
    }
   ],
   "source": [
    "#regression slope\n",
    "regressor.coef_"
   ]
  },
  {
   "cell_type": "code",
   "execution_count": null,
   "metadata": {},
   "outputs": [],
   "source": [
    "#MSE test\n",
    "y_test_pred = regressor.predict(X_test)\n",
    "mean_squared_error(y_test, y_test_pred)"
   ]
  },
  {
   "cell_type": "code",
   "execution_count": 21,
   "metadata": {},
   "outputs": [
    {
     "name": "stdout",
     "output_type": "stream",
     "text": [
      "644.2016071357127\n"
     ]
    },
    {
     "data": {
      "image/png": "[encoded data removed]",
      "text/plain": [
       "<Figure size 432x288 with 1 Axes>"
      ]
     },
     "metadata": {
      "needs_background": "light"
     },
     "output_type": "display_data"
    }
   ],
   "source": [
    "#predict on test set\n",
    "import matplotlib.pyplot as plt\n",
    "y_pred = regressor.predict(X_test)\n",
    "\n",
    "#MSE test\n",
    "print(mean_squared_error(y_test, y_pred))\n",
    "\n",
    "plt.scatter(X_train, y_train, color = 'red')\n",
    "plt.plot(X_test, regressor.predict(X_test), color = 'blue')\n",
    "plt.title('pred_y_test~ X_test')\n",
    "plt.xlabel('X_test')\n",
    "plt.ylabel('pred_y_test')\n",
    "plt.show()"
   ]
  },
  {
   "cell_type": "code",
   "execution_count": 41,
   "metadata": {},
   "outputs": [
    {
     "data": {
      "text/plain": [
       "[(0.0, 0.2)]"
      ]
     },
     "execution_count": 41,
     "metadata": {},
     "output_type": "execute_result"
    },
    {
     "data": {
      "image/png": "[encoded data removed]",
      "text/plain": [
       "<Figure size 432x288 with 1 Axes>"
      ]
     },
     "metadata": {},
     "output_type": "display_data"
    }
   ],
   "source": [
    "sns.set_theme(color_codes=True)\n",
    "ax = sns.regplot(x=\"Dividend\", y=\"Yeild_new\", data=DF2,color=\"g\",marker=\"+\")\n",
    "ax.set(ylim=(0, 0.2))"
   ]
  }
 ],
 "metadata": {
  "kernelspec": {
   "display_name": "Python 3",
   "language": "python",
   "name": "python3"
  },
  "language_info": {
   "codemirror_mode": {
    "name": "ipython",
    "version": 3
   },
   "file_extension": ".py",
   "mimetype": "text/x-python",
   "name": "python",
   "nbconvert_exporter": "python",
   "pygments_lexer": "ipython3",
   "version": "3.8.5"
  }
 },
 "nbformat": 4,
 "nbformat_minor": 4
}
